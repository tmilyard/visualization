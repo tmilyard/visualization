{
 "cells": [
  {
   "cell_type": "markdown",
   "metadata": {
    "collapsed": true
   },
   "source": [
    "#### Note:\n",
    "**2008.csv** file is too large so it is not in my git repository. If you want to run the scripts then you may have to download the file from http://stat-computing.org/dataexpo/2009/the-data.html."
   ]
  },
  {
   "cell_type": "markdown",
   "metadata": {},
   "source": [
    "# Parsing the data\n",
    "### Final Project - Data Visualization Course\n",
    "### Udacity Data Analyst Nanodegree\n",
    "\n",
    "For this final project I will use 2008 flights data that I downloaded from http://stat-computing.org/dataexpo/2009/the-data.html. The file doesn't have the geographic coordination of each airport so I downloaded the file that contains the information of coordinates of each airport from https://gist.githubusercontent.com/tdreyno/4278655/raw/7b0762c09b519f40397e4c3e100b097d861f5588/airports.json.\n",
    "\n",
    "\n",
    "First I will load the json file and save it as a dictionary."
   ]
  },
  {
   "cell_type": "code",
   "execution_count": 1,
   "metadata": {
    "collapsed": true
   },
   "outputs": [],
   "source": [
    "### import necessary libraries\n",
    "import json\n",
    "\n",
    "### Create an empty dictionary\n",
    "airport_dict = {}\n",
    "\n",
    "### load the json file\n",
    "count = 0\n",
    "with open(\"airport.json\") as F:\n",
    "    for i in json.load(F):\n",
    "        try:\n",
    "            airport_dict[i['code']] = {'lon': i['lon'], 'lat': i['lat']}\n",
    "        except:\n",
    "            print i['code'], \":\", i['name']\n",
    "            count += 1"
   ]
  },
  {
   "cell_type": "code",
   "execution_count": 2,
   "metadata": {
    "collapsed": false
   },
   "outputs": [
    {
     "name": "stdout",
     "output_type": "stream",
     "text": [
      "Saved airports: 3885\n",
      "Excluded airports: 0\n"
     ]
    }
   ],
   "source": [
    "print \"Saved airports:\",len(airport_dict)\n",
    "print \"Excluded airports:\", count"
   ]
  },
  {
   "cell_type": "markdown",
   "metadata": {},
   "source": [
    "Now we will load the flights file and parse the data.\n",
    "\n",
    "Since there are too many records in this file I will filter the january data only.\n",
    "\n",
    "When you look at the data in **2008.csv** the same Destination and Origin are repeated at the same day with different hours. I will include only one of them and exclude redundant data."
   ]
  },
  {
   "cell_type": "code",
   "execution_count": 3,
   "metadata": {
    "collapsed": true
   },
   "outputs": [],
   "source": [
    "### load csv library\n",
    "import csv\n",
    "\n",
    "### List for avoiding redundancy\n",
    "redun = []\n",
    "\n",
    "### load csv data\n",
    "id_count = 0\n",
    "with open(\"2008.csv\") as csvfile:\n",
    "    with open(\"airport_coord.csv\", \"wb\") as wfile:\n",
    "        fieldnames = ['id', 'day', \n",
    "                      'Dest', 'Dest_lon', 'Dest_lat', \n",
    "                      'Origin', 'Origin_lon', 'Origin_lat']\n",
    "        writer = csv.DictWriter(wfile, fieldnames=fieldnames)\n",
    "        writer.writeheader()\n",
    "        \n",
    "        ### write rows\n",
    "        for i in csv.DictReader(csvfile):\n",
    "            if int(i[\"Month\"]) == 1:\n",
    "                if i['Dest'] != 'OGD':\n",
    "                    tmp_dict = {}\n",
    "                    tmp_dict['day'] = i[\"DayofMonth\"]\n",
    "                    tmp_dict['Dest'] = i['Dest']\n",
    "                    tmp_dict['Dest_lon'] = airport_dict[i['Dest']]['lon']\n",
    "                    tmp_dict['Dest_lat'] = airport_dict[i['Dest']]['lat']\n",
    "                    tmp_dict['Origin'] = i['Origin']\n",
    "                    tmp_dict['Origin_lon'] = airport_dict[i['Origin']]['lon']\n",
    "                    tmp_dict['Origin_lat'] = airport_dict[i['Origin']]['lat']\n",
    "                    \n",
    "                    ### Check if the item is redundant\n",
    "                    if tmp_dict['day']+tmp_dict['Dest']+tmp_dict['Origin'] not in redun:\n",
    "                        redun.append(tmp_dict['day']+tmp_dict['Dest']+tmp_dict['Origin'])\n",
    "                        tmp_dict['id'] = id_count\n",
    "\n",
    "                        ### Write rows\n",
    "                        writer.writerow(tmp_dict)\n",
    "                        id_count += 1"
   ]
  },
  {
   "cell_type": "markdown",
   "metadata": {},
   "source": [
    "Only the records containing **OGD** are excluded. Everything else is saved as a csvfile."
   ]
  },
  {
   "cell_type": "code",
   "execution_count": 4,
   "metadata": {
    "collapsed": false
   },
   "outputs": [
    {
     "data": {
      "text/plain": [
       "134653"
      ]
     },
     "execution_count": 4,
     "metadata": {},
     "output_type": "execute_result"
    }
   ],
   "source": [
    "id_count-1"
   ]
  },
  {
   "cell_type": "markdown",
   "metadata": {},
   "source": [
    "There are total **134653** records in the saved csv file. Stil there are too many so I will filter the data further. First I will check the most frequently appeared **Destination** and **Origin**."
   ]
  },
  {
   "cell_type": "code",
   "execution_count": 5,
   "metadata": {
    "collapsed": false
   },
   "outputs": [
    {
     "name": "stdout",
     "output_type": "stream",
     "text": [
      "Destinations\n",
      "[('MEM', 2107),\n",
      " ('MCO', 2147),\n",
      " ('LAX', 2332),\n",
      " ('LAS', 2553),\n",
      " ('EWR', 2594),\n",
      " ('CVG', 2669),\n",
      " ('PHX', 2720),\n",
      " ('SLC', 2956),\n",
      " ('MSP', 3257),\n",
      " ('IAH', 3281),\n",
      " ('DTW', 3344),\n",
      " ('DEN', 3377),\n",
      " ('DFW', 3958),\n",
      " ('ORD', 4218),\n",
      " ('ATL', 4945)]\n"
     ]
    }
   ],
   "source": [
    "### Create a dictionary for Destinations and Origins\n",
    "Dest_dict = {}\n",
    "\n",
    "### Load airport_coord.csv file\n",
    "with open(\"airport_coord.csv\") as F:\n",
    "    for i in csv.DictReader(F):\n",
    "        ### Count Destinations\n",
    "        if i[\"Dest\"] in Dest_dict.keys():\n",
    "            Dest_dict[i[\"Dest\"]]+=1\n",
    "        else:\n",
    "            Dest_dict[i[\"Dest\"]]=1\n",
    "\n",
    "### Sort by value\n",
    "import pprint\n",
    "import operator\n",
    "Dest_sorted = sorted(Dest_dict.items(), key=operator.itemgetter(1))\n",
    "\n",
    "### Print out the result\n",
    "print \"Destinations\"\n",
    "pprint.pprint(Dest_sorted[-15:])"
   ]
  },
  {
   "cell_type": "markdown",
   "metadata": {},
   "source": [
    "Above is the list of top **15** destinations that will be used in the data visualization project."
   ]
  },
  {
   "cell_type": "code",
   "execution_count": 6,
   "metadata": {
    "collapsed": true
   },
   "outputs": [],
   "source": [
    "### Save the list of top 15 airports from the array\n",
    "top_Dest = []\n",
    "\n",
    "for i in Dest_sorted[-15:]:\n",
    "    top_Dest.append(i[0])"
   ]
  },
  {
   "cell_type": "code",
   "execution_count": 7,
   "metadata": {
    "collapsed": true
   },
   "outputs": [],
   "source": [
    "### open and filter the data\n",
    "id_num = 0\n",
    "with open(\"airport_coord.csv\") as F:\n",
    "    with open(\"airport_filtered.csv\", \"wb\") as WF:\n",
    "        fieldnames = ['id', 'day', \n",
    "                      'Dest', 'Dest_lon', 'Dest_lat', \n",
    "                      'Origin', 'Origin_lon', 'Origin_lat']\n",
    "        writer = csv.DictWriter(WF, fieldnames=fieldnames)\n",
    "        writer.writeheader()\n",
    "        \n",
    "        ### write rows\n",
    "        tmp_line = \"\"\n",
    "        for i in csv.DictReader(F):\n",
    "            if i[\"Dest\"] in top_Dest:\n",
    "                i['id'] = id_num\n",
    "                writer.writerow(i)\n",
    "                id_num+=1"
   ]
  },
  {
   "cell_type": "code",
   "execution_count": 8,
   "metadata": {
    "collapsed": false
   },
   "outputs": [
    {
     "data": {
      "text/plain": [
       "46457"
      ]
     },
     "execution_count": 8,
     "metadata": {},
     "output_type": "execute_result"
    }
   ],
   "source": [
    "id_num-1"
   ]
  },
  {
   "cell_type": "markdown",
   "metadata": {},
   "source": [
    "There are now total **46457** records in the file. \n",
    "\n",
    "In this data visualization project, nodes and links properties in **D3.js** will be used to indicate the flight paths. So, I will parse the data to create arrays for nodes and links."
   ]
  },
  {
   "cell_type": "code",
   "execution_count": 2,
   "metadata": {
    "collapsed": false
   },
   "outputs": [],
   "source": [
    "### Create arrays of airports in the file\n",
    "airports_list = {}\n",
    "count = 0\n",
    "import csv\n",
    "### load airport_filtered file and save nodes\n",
    "with open(\"airport_filtered.csv\") as F:\n",
    "    for line in csv.DictReader(F):\n",
    "        if line['Dest'] not in airports_list.keys():\n",
    "            airports_list[line['Dest']] = {\"ind\":count, \"lon\": float(line['Dest_lon']), \"lat\":float(line['Dest_lat'])}\n",
    "            count += 1\n",
    "        if line['Origin'] not in airports_list.keys():\n",
    "            airports_list[line['Origin']] = {\"ind\":count, \"lon\": float(line['Origin_lon']), \"lat\":float(line['Origin_lat'])}\n",
    "            count += 1\n",
    "\n",
    "### Sort the dictionary by ind\n",
    "airports_tuple = sorted(airports_list.iteritems(), key=lambda x:x[1])\n",
    "\n",
    "### Save the tuple as a csv file\n",
    "with open(\"nodes.csv\", \"wb\") as F:\n",
    "    fieldnames = ['code', 'id', 'lon', 'lat'] \n",
    "    writer = csv.DictWriter(F, fieldnames=fieldnames)\n",
    "    writer.writeheader()\n",
    "\n",
    "    ### write rows\n",
    "    for k in airports_tuple:\n",
    "        tmp_dict = {}\n",
    "        tmp_dict['code'] = k[0]\n",
    "        tmp_dict['id'] = k[1]['ind']\n",
    "        tmp_dict['lon'] = k[1]['lon']\n",
    "        tmp_dict['lat'] = k[1]['lat']\n",
    "        writer.writerow(tmp_dict)\n",
    "\n",
    "### Save the edges as a csv file\n",
    "with open(\"edges.csv\", \"wb\") as F:\n",
    "    fieldnames = [\"source\", \"target\", 'day']\n",
    "    writer = csv.DictWriter(F, fieldnames = fieldnames)\n",
    "    writer.writeheader()\n",
    "    \n",
    "    ### load airport_filtered and save edges\n",
    "    with open(\"airport_filtered.csv\") as csvfile:\n",
    "        for line in csv.DictReader(csvfile):\n",
    "            tmp_dict = {}\n",
    "            tmp_dict[\"source\"] = airports_list[line['Origin']]['ind']\n",
    "            tmp_dict[\"target\"] = airports_list[line['Dest']]['ind']\n",
    "            tmp_dict[\"day\"] = line['day']\n",
    "            writer.writerow(tmp_dict)"
   ]
  },
  {
   "cell_type": "markdown",
   "metadata": {},
   "source": [
    "Now the files are ready to be used in **D3.js** for data visualization. You can see the result in **final_project.html**."
   ]
  }
 ],
 "metadata": {
  "kernelspec": {
   "display_name": "Python 2",
   "language": "python",
   "name": "python2"
  },
  "language_info": {
   "codemirror_mode": {
    "name": "ipython",
    "version": 2
   },
   "file_extension": ".py",
   "mimetype": "text/x-python",
   "name": "python",
   "nbconvert_exporter": "python",
   "pygments_lexer": "ipython2",
   "version": "2.7.11"
  }
 },
 "nbformat": 4,
 "nbformat_minor": 0
}
